{
 "cells": [
  {
   "cell_type": "code",
   "execution_count": 1,
   "id": "bd8b6024",
   "metadata": {},
   "outputs": [],
   "source": [
    "dict_tmp = {\n",
    "    'I': 1,\n",
    "    'V': 5,\n",
    "    'X': 10,\n",
    "    'L': 50,\n",
    "    'C': 100,\n",
    "    'D': 500,\n",
    "    'M': 1000\n",
    "}"
   ]
  },
  {
   "cell_type": "code",
   "execution_count": 44,
   "id": "29b8df2d",
   "metadata": {},
   "outputs": [],
   "source": [
    "def test_idea(input_str):\n",
    "    #\n",
    "    reverse_str = input_str[::-1]\n",
    "    reverse_str = list(reverse_str)\n",
    "    reverse_size = len(reverse_str)\n",
    "    total = dict_tmp[reverse_str[0]]\n",
    "    #\n",
    "    if reverse_size == 1:\n",
    "        return total\n",
    "    else:\n",
    "        tmp = len(reverse_str) - 1\n",
    "        for i in range(tmp):\n",
    "            x = dict_tmp[reverse_str[i]] - dict_tmp[reverse_str[i+1]]\n",
    "            if x > 0:\n",
    "                total = total - dict_tmp[reverse_str[i+1]]\n",
    "            else:\n",
    "                total = total + dict_tmp[reverse_str[i+1]]\n",
    "    return total"
   ]
  },
  {
   "cell_type": "code",
   "execution_count": 45,
   "id": "75ff5b1d",
   "metadata": {},
   "outputs": [],
   "source": [
    "t = test_idea('III')"
   ]
  },
  {
   "cell_type": "code",
   "execution_count": 46,
   "id": "9127eb7d",
   "metadata": {},
   "outputs": [
    {
     "data": {
      "text/plain": [
       "3"
      ]
     },
     "execution_count": 46,
     "metadata": {},
     "output_type": "execute_result"
    }
   ],
   "source": [
    "t"
   ]
  }
 ],
 "metadata": {
  "kernelspec": {
   "display_name": "Python 3",
   "language": "python",
   "name": "python3"
  },
  "language_info": {
   "codemirror_mode": {
    "name": "ipython",
    "version": 3
   },
   "file_extension": ".py",
   "mimetype": "text/x-python",
   "name": "python",
   "nbconvert_exporter": "python",
   "pygments_lexer": "ipython3",
   "version": "3.8.8"
  }
 },
 "nbformat": 4,
 "nbformat_minor": 5
}
